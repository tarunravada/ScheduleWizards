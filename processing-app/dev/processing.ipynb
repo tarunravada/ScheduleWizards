{
 "cells": [
  {
   "cell_type": "code",
   "execution_count": 13,
   "metadata": {},
   "outputs": [],
   "source": [
    "import cv2\n",
    "from common_methods import *\n",
    "from google.cloud import vision"
   ]
  },
  {
   "cell_type": "code",
   "execution_count": 38,
   "metadata": {},
   "outputs": [],
   "source": [
    "def get_words(resp):\n",
    "    valid_words = []\n",
    "    document = resp.full_text_annotation\n",
    "\n",
    "    for page in document.pages:\n",
    "        img_w = page.width\n",
    "        img_h = page.height\n",
    "        for block in page.blocks: \n",
    "            for para in block.paragraphs: \n",
    "                for word in para.words:\n",
    "                    word = validate_word(word, img_w, img_h)\n",
    "                    if word != None: valid_words.append(word)\n",
    "    return valid_words\n",
    "\n",
    "def validate_word(word, img_w, img_h):\n",
    "    breaks = vision.TextAnnotation.DetectedBreak.BreakType\n",
    "    line_break = [breaks.EOL_SURE_SPACE, breaks.LINE_BREAK, breaks.SURE_SPACE]\n",
    "    word_break = [breaks.SPACE]\n",
    "    hyphen_break = [breaks.HYPHEN]\n",
    "\n",
    "    x1 = max(0,word.bounding_box.vertices[0].x)\n",
    "    y1 = max(0,word.bounding_box.vertices[0].y)\n",
    "    x2 = min(word.bounding_box.vertices[2].x, img_w)\n",
    "    y2 = min(word.bounding_box.vertices[2].y, img_h)\n",
    "\n",
    "    sbb = (x1, y1)\n",
    "    ebb = (x2, y2)\n",
    "\n",
    "    text = ''\n",
    "    for symbol in word.symbols:\n",
    "        text+=symbol.text\n",
    "    if text == '': return None\n",
    "\n",
    "\n",
    "    if word.symbols[-1].property.detected_break.type in line_break:\n",
    "        break_type = 'line'\n",
    "    elif word.symbols[-1].property.detected_break.type in word_break:\n",
    "        break_type = 'word'\n",
    "    elif word.symbols[-1].property.detected_break.type in hyphen_break:\n",
    "        break_type = 'hyphen'\n",
    "    else: break_type = 'none'\n",
    "\n",
    "    return  {'text': text, 'sbb': sbb, 'ebb': ebb, 'break_type': break_type}\n",
    "\n",
    "def centroid_clustering(centroids, points):\n",
    "    for p in points:\n",
    "        \n",
    "\n",
    "def week_seperation(words):\n",
    "    week_days = ['Monday', 'Tuesday', 'Wednesday', 'Thursday', 'Friday', 'Saturday', 'Sunday']\n",
    "    week_loc = {}\n",
    "\n",
    "    for word in words:\n",
    "        if word['text'] in week_days:\n",
    "            week_loc[word['text']] = word['sbb'][0] + word['ebb'][0])//2\n",
    "    \n",
    "\n",
    "    return week_loc   "
   ]
  },
  {
   "cell_type": "code",
   "execution_count": 39,
   "metadata": {},
   "outputs": [],
   "source": [
    "data_path = 'data'\n",
    "img, resp = load_img_resp(data_path, 'image_7.jpg')"
   ]
  },
  {
   "cell_type": "code",
   "execution_count": 40,
   "metadata": {},
   "outputs": [],
   "source": [
    "words = get_words(resp)"
   ]
  },
  {
   "cell_type": "code",
   "execution_count": 41,
   "metadata": {},
   "outputs": [
    {
     "data": {
      "text/plain": [
       "{'Monday': (52, 12),\n",
       " 'Tuesday': (166, 12),\n",
       " 'Wednesday': (315, 13),\n",
       " 'Thursday': (453, 12),\n",
       " 'Friday': (575, 14),\n",
       " 'Saturday': (686, 13),\n",
       " 'Sunday': (803, 12)}"
      ]
     },
     "execution_count": 41,
     "metadata": {},
     "output_type": "execute_result"
    }
   ],
   "source": [
    "week_loc = week_seperation(words)\n",
    "week_loc"
   ]
  },
  {
   "cell_type": "code",
   "execution_count": null,
   "metadata": {},
   "outputs": [],
   "source": []
  }
 ],
 "metadata": {
  "kernelspec": {
   "display_name": "Python 3.10.6 ('ssid')",
   "language": "python",
   "name": "python3"
  },
  "language_info": {
   "codemirror_mode": {
    "name": "ipython",
    "version": 3
   },
   "file_extension": ".py",
   "mimetype": "text/x-python",
   "name": "python",
   "nbconvert_exporter": "python",
   "pygments_lexer": "ipython3",
   "version": "3.10.6"
  },
  "orig_nbformat": 4,
  "vscode": {
   "interpreter": {
    "hash": "fc7f30d039a186cd5116dc94db5604aeb3155728f6eef02e84436095926ce6f8"
   }
  }
 },
 "nbformat": 4,
 "nbformat_minor": 2
}
