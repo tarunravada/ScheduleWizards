{
 "cells": [
  {
   "cell_type": "code",
   "execution_count": 4,
   "metadata": {},
   "outputs": [],
   "source": [
    "import cv2\n",
    "import pickle\n",
    "from google.cloud import vision\n",
    "import os"
   ]
  },
  {
   "cell_type": "code",
   "execution_count": 5,
   "metadata": {},
   "outputs": [],
   "source": [
    "# def rename_images(path):\n",
    "#     img_path = os.path.join(path, 'images')\n",
    "#     for i, f in enumerate(os.listdir(img_path)):\n",
    "#         ext = os.path.splitext(f)[1]\n",
    "#         inname = os.path.join(img_path, f)\n",
    "#         outname = os.path.join(img_path, f'image_{i}{ext}').lower()\n",
    "#         os.rename(inname, outname)\n",
    "        \n",
    "# # # # rename_images(\"data\")"
   ]
  },
  {
   "cell_type": "code",
   "execution_count": 6,
   "metadata": {},
   "outputs": [],
   "source": [
    "# def generate_resp(path):\n",
    "#     img_path = os.path.join(path, 'images')\n",
    "#     resp_path = os.path.join(path, 'resp')\n",
    "#     os.environ[\"GOOGLE_APPLICATION_CREDENTIALS\"] = \".config\\ocr-service-key.json\"\n",
    "    \n",
    "#     client = vision.ImageAnnotatorClient()\n",
    "#     for f in os.listdir(img_path):\n",
    "#         with open(os.path.join(img_path, f), 'rb') as img:\n",
    "#             image = vision.Image(content = img.read())\n",
    "#         response = client.text_detection(image=image)\n",
    "#         outname = f\"{os.path.join(resp_path, os.path.splitext(f)[0])}_resp.pkl\"\n",
    "#         pickle.dump(response, open(outname, 'wb'))\n",
    "\n",
    "# # generate_resp(\"data\")"
   ]
  },
  {
   "cell_type": "code",
   "execution_count": null,
   "metadata": {},
   "outputs": [],
   "source": []
  }
 ],
 "metadata": {
  "kernelspec": {
   "display_name": "Python 3.10.6 ('ssid')",
   "language": "python",
   "name": "python3"
  },
  "language_info": {
   "codemirror_mode": {
    "name": "ipython",
    "version": 3
   },
   "file_extension": ".py",
   "mimetype": "text/x-python",
   "name": "python",
   "nbconvert_exporter": "python",
   "pygments_lexer": "ipython3",
   "version": "3.10.6"
  },
  "orig_nbformat": 4,
  "vscode": {
   "interpreter": {
    "hash": "fc7f30d039a186cd5116dc94db5604aeb3155728f6eef02e84436095926ce6f8"
   }
  }
 },
 "nbformat": 4,
 "nbformat_minor": 2
}
